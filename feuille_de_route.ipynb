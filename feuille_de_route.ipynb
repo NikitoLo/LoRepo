{
 "cells": [
  {
   "cell_type": "markdown",
   "metadata": {
    "slideshow": {
     "slide_type": "slide"
    }
   },
   "source": [
    "<center><img src=\"https://ericecmorlaix.github.io/img/m0-jupyter-PageDeGarde.png\" alt=\"m0-jupyter-PageDeGarde.svg\" width = 80% height=80% ></center>"
   ]
  },
  {
   "cell_type": "markdown",
   "metadata": {
    "slideshow": {
     "slide_type": "slide"
    }
   },
   "source": [
    "# Mise en bouche :\n",
    "\n",
    "\n",
    "## L'anecdote :\n",
    "\n",
    "### Poppy :\n",
    "\n",
    "J'ai découvert l'interface jupyter en 2016/2017 à travers le robot Poppy Ergo Jr, un projet de l'INRIA :\n",
    "\n",
    "<center><img src=\"http://2si.si.lycee.ecmorlaix.fr/Robotique/img/PoppyErgoJr.gif\" alt=\"PoppyErgoJr.gif\" width = 50% ></center>\n",
    "\n",
    "- http://icn.cpn56.fr/2017/06/poppy-ergo-jr/\n",
    "- https://docs.poppy-project.org/fr/from-simulation-to-real-robot/using-jupyter.html\n",
    "\n",
    "Au départ je pensais que ce n'était qu'un environnement dédié à ce robot avant que de comprendre, éclairé par un de mes élèves en charge du projet, qu'il s'agissait d'une solution beaucoup plus générique qui allait grandement nous faciliter la vie pour l'apprentissage de la programmation Python au lycée !\n",
    "\n",
    "Je me suis alors empressé de partager mon enthousiasme avec les collègues du groupe de production ISN-ICN breton...\n",
    "\n",
    "- http://www.cpn56.fr/2017/06/jupyter/"
   ]
  },
  {
   "cell_type": "markdown",
   "metadata": {
    "slideshow": {
     "slide_type": "subslide"
    }
   },
   "source": [
    "### Programmer en python dans un navigateur web :"
   ]
  },
  {
   "cell_type": "code",
   "execution_count": null,
   "metadata": {
    "slideshow": {
     "slide_type": "-"
    }
   },
   "outputs": [],
   "source": [
    "1 + 1"
   ]
  },
  {
   "cell_type": "code",
   "execution_count": null,
   "metadata": {
    "slideshow": {
     "slide_type": "-"
    }
   },
   "outputs": [],
   "source": []
  },
  {
   "cell_type": "markdown",
   "metadata": {
    "slideshow": {
     "slide_type": "subslide"
    }
   },
   "source": [
    "### Afficher une page web depuis une cellule de code IPython :"
   ]
  },
  {
   "cell_type": "code",
   "execution_count": null,
   "metadata": {
    "slideshow": {
     "slide_type": "-"
    }
   },
   "outputs": [],
   "source": [
    "%%HTML\n",
    "<center>\n",
    "<iframe width=80% height=\"420\" src=\"https://eduscol.education.fr/maths/actualites/actualites/article/jupyter-notebook.html\"></iframe>\n",
    "</center>"
   ]
  },
  {
   "cell_type": "markdown",
   "metadata": {
    "slideshow": {
     "slide_type": "subslide"
    }
   },
   "source": [
    "### Afficher une vidéo d'internet dans une cellule Mardown"
   ]
  },
  {
   "cell_type": "code",
   "execution_count": null,
   "metadata": {
    "slideshow": {
     "slide_type": "-"
    }
   },
   "outputs": [],
   "source": [
    "<p>Monsieur Mouny Samy Modeliar, enseignant-chercheur en mathématiques et informatique à l’Université d’Artois, propose une vidéo explicative de l’écriture de programmes en Python avec Jupyter.<br>Merci à lui !<p>\n",
    "\n",
    "<center>\n",
    "    <video width=\"560\" controls src=\"http://maths.enseigne.ac-lyon.fr/spip/squelettes/docs_lyon/videos/jupyter2.mp4\">\n",
    "</center>        \n",
    "\n",
    "<p>(source : <a href=\"http://maths.enseigne.ac-lyon.fr/spip/spip.php?article649\">http://maths.enseigne.ac-lyon.fr/</a>)</p>"
   ]
  },
  {
   "cell_type": "markdown",
   "metadata": {
    "slideshow": {
     "slide_type": "subslide"
    }
   },
   "source": [
    "### Afficher une chaine de caractères générée en langage HTML :"
   ]
  },
  {
   "cell_type": "code",
   "execution_count": null,
   "metadata": {
    "slideshow": {
     "slide_type": "-"
    }
   },
   "outputs": [],
   "source": [
    "from IPython.display import HTML\n",
    "\n",
    "chaine = ''\n",
    "\n",
    "for i in range(1,6) :\n",
    "    chaine = chaine + f'<h{i}>Mon titre de niveau {i}</h{i}>'\n",
    "\n",
    "HTML(chaine)"
   ]
  },
  {
   "cell_type": "markdown",
   "metadata": {
    "slideshow": {
     "slide_type": "subslide"
    }
   },
   "source": [
    "### Afficher tout type de balise HTML y compris des images :"
   ]
  },
  {
   "cell_type": "code",
   "execution_count": null,
   "metadata": {
    "slideshow": {
     "slide_type": "-"
    }
   },
   "outputs": [],
   "source": [
    "from IPython.display import HTML\n",
    "\n",
    "chaine = '<h3 style=\"color:darkorange;text-align:center;\">Et voici le résultat :</h3>'\n",
    "\n",
    "nombre = int(input('Entrer un nombre entier positif : '))\n",
    "\n",
    "chaine = chaine + '<img src=\"https://ericecmorlaix.github.io/img/Jupyter_logo.svg\" style = \"display:inline-block\">' * nombre\n",
    "\n",
    "HTML(chaine)"
   ]
  },
  {
   "cell_type": "markdown",
   "metadata": {
    "slideshow": {
     "slide_type": "subslide"
    }
   },
   "source": [
    "### Afficher un dessin généré à partir d'un code en langage SVG :"
   ]
  },
  {
   "cell_type": "code",
   "execution_count": null,
   "metadata": {
    "slideshow": {
     "slide_type": "-"
    }
   },
   "outputs": [],
   "source": [
    "from IPython.display import SVG\n",
    "\n",
    "chaine = '<svg width=\"600\" height=\"80\">'\n",
    "\n",
    "for i in range(10) :\n",
    "    chaine = chaine + f'<circle cx=\"{(30+3*i)*(10-i)}\" cy=\"{30}\" r=\"{3.*float(i)}\" fill=\"purple\" stroke-width=\"2\" stroke=\"grey\"></circle>'\n",
    "\n",
    "SVG(chaine + '</svg>')"
   ]
  },
  {
   "cell_type": "markdown",
   "metadata": {
    "slideshow": {
     "slide_type": "subslide"
    }
   },
   "source": [
    "### Afficher au format LaTeX des matrices générées par compréhension  :"
   ]
  },
  {
   "cell_type": "code",
   "execution_count": null,
   "metadata": {
    "slideshow": {
     "slide_type": "-"
    }
   },
   "outputs": [],
   "source": [
    "from IPython.display import Latex\n",
    "\n",
    "def affiche_latex(matrice) :\n",
    "    S = '$$\\\\begin{pmatrix}'\n",
    "    for i in range(len(matrice)) :\n",
    "        S += '&'\n",
    "        for j in range(len(matrice[i])) :\n",
    "            S += f' {matrice[i][j]} &'\n",
    "        S +=\" \\\\\\\\\"\n",
    "    S +='\\\\end{pmatrix}$$'\n",
    "    return Latex(S)\n",
    "\n",
    "affiche_latex([[j for j in range(10) if j % 2 == 1] for i in range(5)])"
   ]
  },
  {
   "cell_type": "markdown",
   "metadata": {
    "slideshow": {
     "slide_type": "subslide"
    }
   },
   "source": [
    "### Afficher un tableau généré au format Markdown :"
   ]
  },
  {
   "cell_type": "code",
   "execution_count": null,
   "metadata": {
    "slideshow": {
     "slide_type": "-"
    }
   },
   "outputs": [],
   "source": [
    "# Table de vérité en Markdown par Python de l'opérateur NON-ET :\n",
    "from IPython.display import Markdown\n",
    "    \n",
    "table ='''\n",
    "|  a  |  b  |  NAND |\n",
    "|:---:|:---:|:-----:|\\n'''\n",
    "\n",
    "for a in [False,True]:\n",
    "    for b in [False,True]:\n",
    "        table += f\"|  {a}  |  {b}  |  {not(a and b)}  |\\n\"\n",
    "        \n",
    "Markdown(table)"
   ]
  },
  {
   "cell_type": "markdown",
   "metadata": {
    "slideshow": {
     "slide_type": "subslide"
    }
   },
   "source": [
    "### Ajouter de l'interactivité en créant une IHM web avec ipywidgets"
   ]
  },
  {
   "cell_type": "code",
   "execution_count": null,
   "metadata": {
    "slideshow": {
     "slide_type": "-"
    }
   },
   "outputs": [],
   "source": [
    "# Il faut importer la fonction interact() du module ipywidgets\n",
    "from ipywidgets import interact\n",
    "\n",
    "# Définition de la fonction logique à simuler\n",
    "def VaEtVient(a, b):\n",
    "    # Expression booléenne de la fonction en python\n",
    "    L = not a and b or a and not b\n",
    "    # Résultat interactif à afficher\n",
    "    return (print(f\"Si a = {a} et b = {b} alors la lampe L = {L}\"))\n",
    "\n",
    "# Appel de la fonction interact()\n",
    "interact(VaEtVient, a = False, b = False)"
   ]
  },
  {
   "cell_type": "markdown",
   "metadata": {
    "slideshow": {
     "slide_type": "subslide"
    }
   },
   "source": [
    "### Utiliser des modules comme [IPythonBlocks](http://www.ipythonblocks.org/) pour créer des grilles animées  :"
   ]
  },
  {
   "cell_type": "code",
   "execution_count": null,
   "metadata": {
    "slideshow": {
     "slide_type": "-"
    }
   },
   "outputs": [],
   "source": [
    "from ipythonblocks import BlockGrid\n",
    "\n",
    "def affiche_ipythonblocks(matrice) :\n",
    "    maGrille = BlockGrid(5,5, fill=(0, 0, 0), block_size=60)\n",
    "    for i in range(len(matrice)) :\n",
    "        for j in range(len(matrice[i])) :\n",
    "            maGrille[i,j]=(matrice[i][j]*255//9, 0, 0)\n",
    "    return maGrille\n",
    "\n",
    "def transpose(matrice) :   \n",
    "    return [ [matrice[j][i] for j in range(len(matrice)) ] for i in range(len(matrice[0]))]\n",
    "\n",
    "degrade_Est = [[j for j in range(10) if j % 2 == 1] for i in range(5)]\n",
    "degrade_Sud = transpose(degrade_Est)\n",
    "degrade_Ouest = [[10 - j for j in degrade_Est[i]] for i in range(5)] \n",
    "degrade_Nord = transpose(degrade_Ouest)\n",
    "degrade_Sud_Est = [[(1+j+i) for j in range(5)] for i in range(5)]\n",
    "degrade_Nord_Est = degrade_Sud_Est[::-1]\n",
    "degrade_Nord_Ouest = [[(9-j-i) for j in range(5)] for i in range(5)]\n",
    "degrade_Sud_Ouest = degrade_Nord_Ouest[::-1]\n",
    "\n",
    "ecrans = [degrade_Est,\n",
    "          degrade_Sud_Est,\n",
    "          degrade_Sud,\n",
    "          degrade_Sud_Ouest,\n",
    "          degrade_Ouest,\n",
    "          degrade_Nord_Ouest,\n",
    "          degrade_Nord,\n",
    "          degrade_Nord_Est]            \n",
    "         \n",
    "k = 0\n",
    "while k < 5 * len(ecrans) :\n",
    "    affiche_ipythonblocks(ecrans[k % len(ecrans)]).flash(display_time=0.5)    \n",
    "    k+=1"
   ]
  },
  {
   "cell_type": "markdown",
   "metadata": {
    "slideshow": {
     "slide_type": "subslide"
    }
   },
   "source": [
    "### Et même de la 3D avec [SolidPython](https://github.com/SolidCode/SolidPython) et [ViewSCAD](https://github.com/nickc92/ViewSCAD) "
   ]
  },
  {
   "cell_type": "code",
   "execution_count": null,
   "metadata": {
    "slideshow": {
     "slide_type": "-"
    }
   },
   "outputs": [],
   "source": [
    "from solid import *\n",
    "import viewscad\n",
    "rendu = viewscad.Renderer(openscad_exec=\"C:\\Program Files\\OpenSCAD\\openscad.exe\")\n",
    "c = cylinder(r=5, h=2)\n",
    "c -= minkowski() (translate([0,0,1]) (cylinder(r=3, h=1.5)), sphere(r=0.2))\n",
    "c -= cylinder(r=1, h=3, center = True)\n",
    "c -= translate([0,-1,0]) (cube([6, 2, 3]))\n",
    "rendu.render(c)"
   ]
  },
  {
   "cell_type": "markdown",
   "metadata": {
    "slideshow": {
     "slide_type": "slide"
    }
   },
   "source": [
    "## Eléments d'histoire :\n",
    "\n",
    "Jupyter est donc une application Web qui associe deux fonctionnalités complémentaires :\n",
    "- l'une, exploite les langages de descritions HTML, LaTeX, et Markdown, pour créer des documents multimédia intégrant du texte, des formules mathématiques, des graphiques, des images, voire des animations et des vidéos.\n",
    "- l'autre, s'appuie sur des interpréteurs de langages de programmation (des noyaux, kernel en anglais) pour exécuter du code informatique et en afficher le résultat directement sur ce même document.\n",
    "\n",
    "<center><img src=\"https://ericecmorlaix.github.io/img/JupyterNoteBook.png\" alt=\"JupyterNoteBook.png\" width = 60% ></center>\n",
    "\n",
    "Le projet [Jupyter](https://jupyter.org/), avec un \"y\", se nomme ainsi en référence aux trois langages de programmation que sont Julia, Python et R.\n",
    "\n",
    "Il découle du projet [IPython](https://ipython.org/) qui consiste en un interpréteur python avancé ; Intégré dans certains IDE, il permet d’améliorer la productivité de votre code en python.\n",
    "\n",
    "Pour favoriser le partage et le développement « interactif », le projet IPython s’est doté des Notebooks, interface web au format `JSON` permettant de faire tourner un noyau python et de coder directement dans un navigateur avec affichage des résultats intermédiaires.\n",
    "\n",
    "L'extension des fichiers Jupyter Notebooks, `*.ipynb`, hérite donc de IPython Notebooks. Ce sont des fichiers `JSON`, on peut donc rédiger un notebook directement dans un éditeur de texte dans ce format de données...\n",
    "\n",
    "Comme son nom l’indique IPython est orienté python et les développeurs de cette solution se sont vite rendu compte que python n’était qu’une possibilité parmi de nombreux langages. Il nous suffit d’ajouter un noyau associé à un autre langage (R ou Julia par exemple) pour pouvoir développer directement dans ce langage. D’où la création du projet Jupyter avec ses Notebooks et ses plus de 40 langages satellites. \n",
    "\n",
    "\n",
    "<center><img src=\"https://ericecmorlaix.github.io/img/JupyterSatellites.png\" alt=\"JupyterSatellites.png\" width = 60% ></center>\n",
    "\n",
    "\n",
    "Le projet IPython existe toujours mais se concentre sur l’aspect python et la partie Notebook a été extraite du projet.\n",
    "\n",
    "Les notebooks ont vite évolués en moins d'une décennie avec notamment les extensions de notebooks mais aussi JupyterLab, une nouvelle interface de développement plus évoluée, et  JupyterHub, un serveur de notebook multi-utilisateurs... "
   ]
  },
  {
   "cell_type": "markdown",
   "metadata": {
    "slideshow": {
     "slide_type": "slide"
    }
   },
   "source": [
    "## Les interfaces graphiques utilisateur de Jupyter :\n",
    "<a id=\"classique\"></a>\n",
    "### Jupyter NoteBook classique :\n",
    "#### Le home :\n",
    "\n",
    "Après avoir lancé l'application Jupyter Notebook sur une machine, le serveur ouvre dans le navigateur par défaut un onglet nommé `Home` présentant l'interface graphique qui permet de gérer les dossiers et fichiers dans l'arborescence utilisateur de votre machine, de personaliser votre interface (selon configuration...) et d'ouvrir de nouveaux onglets :\n",
    " \n",
    "#### Notebook :\n",
    "\n",
    "Ouvre dans un nouvel onglet l'interface graphique d'édition d'un Notebook dans le noyau choisi.\n",
    "\n",
    "#### Fichier Texte :\n",
    "\n",
    "Ouvre dans un nouvel onglet un simple éditeur de texte avec coloration syntaxique en fonction de l'extension du fichier.\n",
    "\n",
    "> Il est possible de configurer les commandes du clavier selon vos préférences (Sublime Text, Vim ou emacs) dans le menu `Edit`.\n",
    "\n",
    "#### Terminal :\n",
    "\n",
    "Ouvre dans un nouvel onglet une fenêtre de Terminal ce qui vous donne accès au super pouvoir des instructions en ligne de commande afin de gérer vos fichiers et dossiers, d'installer des modules et autres extensions...\n",
    "\n",
    "- [Terminal](Terminal-Un_BN_pour_la_ligne_de_commande.ipynb) - Un bloc-note pour débuter en ligne de commande dans jupyter notebook.\n",
    "\n",
    "> **/!\\ Attention**, rappelez-vous que des supers pouvoirs impliquent... \n",
    "\n",
    "\n",
    "> Pour la ligne de commande sour Windows il faudra peut-être installer [Git for Windows](https://gitforwindows.org/)\n",
    "\n",
    "\n",
    "\n",
    "<a id=\"JupyterLab\"></a>\n",
    "### JupyterLab :\n",
    "\n",
    "Le GUI Jupyter du futur ! ?\n",
    "\n",
    "Pour basculer de l'interface Jupyter NoteBook classique à l'interface Lab, il suffit de remplacer dans l'URL le `tree` par un `lab` et inversement...\n",
    "\n",
    "C ’est une nouvelle génération de l’interface web utilisateur, plus évoluée, qui intègre les applications de Notebook et de Terminal classiques et adjoint une console Ipython et de nouvelles fonctionnalités graphiques pour la gestion des fichiers de l’espace personnel et l’affichage interactif simultané sur de multiples fenêtres.\n",
    "\n",
    "De plus, cet environnement autorise l’intégration d’applications en extensions comme un éditeur de diagrammes ou encore un éditeur/compilateur LaTeX…\n",
    "\n",
    "\n",
    "- https://www.stat4decision.com/fr/jupyterlab-python/\n",
    "- https://towardsdatascience.com/jupyter-lab-evolution-of-the-jupyter-notebook-5297cacde6b\n",
    "- https://blog.jupyter.org/a-diagram-editor-for-jupyterlab-a254121ff919\n",
    "\n",
    "\n",
    "- https://jupyterlab.readthedocs.io/en/stable/\n",
    "\n",
    "\n",
    "- https://github.com/jupyterlab/jupyterlab-latex\n",
    "- https://github.com/jupyterlab/jupyterlab-github\n",
    "- https://github.com/QuantStack/jupyterlab-drawio\n",
    "\n",
    "> **Attention** : la plupart des extensions de Jupyter Notebook classique ne fonctionne pas dans JupyterLab et inversement...\n"
   ]
  },
  {
   "cell_type": "markdown",
   "metadata": {
    "slideshow": {
     "slide_type": "slide"
    }
   },
   "source": [
    "## Le clavier est votre ami :\n",
    "\n",
    "Bien que l'essentiels des commandes sont disponibles depuis le menu déroulant et/ou depuis les boutons de la barre d'outils de l'interface graphique, les raccourcis clavier s'avèrent très pratiques à l'usage en particulier lors de la production d'un document.\n",
    "\n",
    "Les cellules d'un notebook jupyter possèdent deux modes de saisie clavier : \n",
    "\n",
    "\n",
    "\n",
    "\n",
    "\n",
    "\n",
    "### Le mode éditon :\n",
    "\n",
    "Le mode **\"Édition\"** permet de saisir du code ou du texte dans une cellule et se reconnaît à la bordure verte de la cellule.\n",
    "\n",
    "Pour accéder au mode éditionCliquer dans une cellule de type `Code`  ou double cliquer sur une cellule de type `Markdown`.\n",
    "\n",
    "Les raccourcis du clavier sont alors les classiques d'un éditeur de texte (ou de code) : \n",
    "- `Ctrl + C` pour Copier,\n",
    "\n",
    "- `Ctrl + V` pour Coller,\n",
    "\n",
    "- `Ctrl + Z` pour annuler,\n",
    "\n",
    "- ...,\n",
    "\n",
    "- `Ctrl + /` pour commenter/décommenter,\n",
    "\n",
    "- `Tab` pour indenter,\n",
    "\n",
    "- ...\n",
    "\n",
    "### Le mode commande :\n",
    "\n",
    "Le mode **\"Commande\"** déclenche au clavier des actions au niveau du notebook et se reconnaît à la bordure grise de la cellule, avec un liseret bleue sur la gauche :\n",
    "\n",
    "- `Ctrl + Entrée` pour exécuter la cellule,\n",
    "\n",
    "- `Maj + Entrée` pour exécuter la cellule et sélectionner la suivante,\n",
    "\n",
    "- `Alt + Entrée` pour exécuter la cellule et insérer une nouvelle après,\n",
    "\n",
    "- `A` pour insérer une cellule avant,\n",
    "\n",
    "- `B` pour insérer une cellule après,\n",
    "\n",
    "- `M` pour transformer en cellule markdown,\n",
    "\n",
    "- `Y` pour transformer en cellule de code,\n",
    "\n",
    "- `C` pour copier une cellule,\n",
    "\n",
    "- `X` pour couper une cellule,\n",
    "\n",
    "- `V` pour coller après la cellule,\n",
    "\n",
    "- ...\n",
    "\n",
    "\n",
    "Tous les raccourcis claviers (Keyboard Shortcuts) sont présentés dans le menu d'aide (Help)."
   ]
  },
  {
   "cell_type": "markdown",
   "metadata": {
    "slideshow": {
     "slide_type": "slide"
    }
   },
   "source": [
    "## Du risque de se perdre :\n",
    "\n",
    "Avec Jupyter, il est important de comprendre les notions de **client/serveur**.\n",
    "Même si le résultat s'affiche dans un même navigateur le code peut s'être exécuté sur plusieurs machines différentes.\n",
    "\n",
    "Pour s'y retrouver il est important de se référer à l'url de l'onglet du notebook ouvert :\n",
    "\n",
    "- `http://localhost:8888/notebooks/...` => le serveur de notebooks démarré sur ce PC en local ;\n",
    "\n",
    "- `http://jupyterhub.ecmorlaix.bzh:8092/user/...` => le serveur jupyterhub du lycée Notre Dame du Mur de Morlaix ;\n",
    "\n",
    "- `https://notebooks.gesis.org/user/...` => le serveur jupyterhub de GESIS ;\n",
    "\n",
    "- ... mybinder\n",
    "\n",
    "- ... azure\n",
    "\n",
    "- ... aws\n",
    "\n",
    "- ... collaboratory\n",
    "\n",
    "- ... \n",
    "\n",
    "> De plus, celà peut dépendre du noyau (kernel) sélectionné, ainsi, si le noyau est `MicroPython - USB`, par exemple, alors le code d'une cellule sera interprété sur la carte à microcontroleur (BBC micro:bit, ESP32, ESP8266, ...) connectée en USB à la machine sur laquelle fonctionne le serveur jupyter..."
   ]
  },
  {
   "cell_type": "markdown",
   "metadata": {
    "slideshow": {
     "slide_type": "slide"
    }
   },
   "source": [
    "# Activités pratiques :\n",
    "\n",
    "## Découvrir l'environnement d'un notebook jupyter :\n",
    "\n",
    "- [Introduction](Introduction-Le_BN_pour_explorer.ipynb) - Un bloc-note pour explorer les fonctionnalités de jupyter notebook\n",
    "\n",
    "\n",
    "- Autres pistes d'exploration :\n",
    "    - https://jupyter.org/try\n",
    "    - "
   ]
  },
  {
   "cell_type": "markdown",
   "metadata": {
    "slideshow": {
     "slide_type": "subslide"
    }
   },
   "source": [
    "## Préparer un notebook jupyter pour une activité pédagogique :\n",
    "\n",
    "Dans un environnement jupyter rédiger un notebook contenant à minima :\n",
    "- une cellule de type `Markdown` pour du texte enrichi de titres, listes, images ;\n",
    "- une cellule de `Code` Python3 ;\n",
    "\n",
    "En vous aidant des documents suivants :\n",
    "- [Markdown](MarkDown-Le_BN_pour_rapporter.ipynb) - Un bloc-note pour découvrir l'écriture d'un document Web en Markdown dans un jupyter notebook\n",
    "- [Arithmétique](Arithmetique-Le_BN_pour_calculer.ipynb) - Un bloc-note pour faire des calculs mathématiques en Python dans un jupyter notebook\n",
    "- [Python 3](Programmation-Python3-Bases.ipynb) - Un bloc-notes pour s'initier à la programmation scientifique en Python 3.\n",
    "- [HTML](HTML-Le_BN_pour_multimedier.ipynb) - Un bloc-note pour créer un document Web multimédia en HTML dans un jupyter notebook\n",
    "- [LaTeX](LaTeX-Le_BN_pour_formuler.ipynb) - Un bloc-note pour enrichir un document Web de formules en $\\LaTeX{}$ dans un jupyter notebook\n",
    "- [CSS](CSS-Le_BN_pour_styler.ipynb) - Un bloc-note pour ajouter du style en CSS dans un jupyter notebook"
   ]
  },
  {
   "cell_type": "markdown",
   "metadata": {
    "slideshow": {
     "slide_type": "subslide"
    }
   },
   "source": [
    "## Inclure des modules, noyaux et autres extensions :\n",
    "\n",
    "### Les extensions :\n",
    "\n",
    "Elles permettent d'ajouter des fonctionnalités à l'environnement Jupyter Notebook.\n",
    "\n",
    "- La collection [Unofficial Jupyter Notebook Extensions](https://github.com/ipython-contrib/jupyter_contrib_nbextensions) qui intègre notamment :\n",
    "\n",
    "    - le gestionnaire d'extensions [jupyter_nbextensions_configurator](https://github.com/Jupyter-contrib/jupyter_nbextensions_configurator) ;\n",
    "    \n",
    "    - [Variable Inspector](https://jupyter-contrib-nbextensions.readthedocs.io/en/latest/nbextensions/varInspector/README.html) pour afficher l'état des variables dans une fenêtre flottante ;\n",
    "    \n",
    "    - [gist-it](https://medium.com/deena-does-data-science/jupyter-notebook-extensions-e6b57d004e8e) pour publier un jupyter notebook sur GitHub en un clic.\n",
    "    \n",
    "    \n",
    "\n",
    "- Le diaporama avec [RISE](https://github.com/damianavila/RISE) :\n",
    "    \n",
    "    > [Tutoriel de Microsoft Azure Notebooks pour RISE](https://docs.microsoft.com/fr-fr/azure/notebooks/present-jupyter-notebooks-slideshow)\n",
    "\n",
    "- [metakernel](https://github.com/Calysto/metakernel) pour inclure des codes Blockly, Processing, et bien plus encore...:\n",
    "\n",
    "    - [documentation](http://calysto.github.io/metakernel/),\n",
    "    \n",
    "    - [exemples](http://nbviewer.jupyter.org/github/Calysto/metakernel/tree/master/examples/)\n",
    "    \n",
    "    - [Python Tutor](https://jupyter.brynmawr.edu/services/public/dblank/Examples/Tutor%20Magic%20in%20IPython.ipynb),  expérimenter dans le bloc_note : [PythonTutor_dans_Jupyter.ipynb](PythonTutor_dans_Jupyter.ipynb)\n",
    "    \n",
    "    - ...\n",
    "    \n",
    "\n",
    "- [nbtutor](https://github.com/lgpage/nbtutor) pour visualiser l'exécution d'un code Python ligne par ligne dans un notebook tel qu'avec [Python Tutor](https://github.com/lgpage/nbtutor), lire [l'article de Tony Hirst](https://blog.ouseful.info/2017/01/27/python-code-stepper-debugger-tutor-for-jupyter-notebooks-nbtutor/) à ce sujet.\n",
    "\n",
    "- [nbautoeval](https://github.com/parmentelat/nbautoeval) une solution pour créer des exercices d'autoévaluation en python dans un Jupyter notebook.\n",
    "\n",
    "### Les noyaux :\n",
    "\n",
    "- BBC micro:bit, ESP8266 et ESP32 :\n",
    "    - dépot https://github.com/goatchurchprime/jupyter_micropython_kernel/\n",
    "    - tutoriel https://towardsdatascience.com/micropython-on-esp-using-jupyter-6f366ff5ed9\n",
    "    \n",
    "- Liste des Jupyter kernels : https://github.com/jupyter/jupyter/wiki/Jupyter-kernels\n",
    "\n",
    "### Les modules :\n",
    "\n",
    "On peut facilement définir son propre module, par exemple, expérimentez ça avec le BN [Modules](Modules-Importation_Creation.ipynb).  \n",
    "\n",
    "Ainsi certains modules sont portables comme [IPythonBlocks](http://www.ipythonblocks.org/) dont tout le code tient dans le fichier [ipythonblocks.py](ipythonblocks.py). Il suffit alors que ce fichier soit dans le dossier du jupyter notebook pour pouvoir l'importer sans autre installation sur la machine qui exécute le serveur. Découvrez ce module dans le bloc-note : [ipythonblocks-Un_BN_de_grilles_en_couleurs.ipynb](ipythonblocks-Un_BN_de_grilles_en_couleurs.ipynb).\n",
    "\n",
    "D'autres modules impliquent une installation plus avancé avec une commande `conda` ou `pip` mais certaines distributions de Jupyter comme Anaconda arrive avec déjà un grand nombre des modules utiles.\n",
    "\n",
    "Pour obtenir la liste des modules déjà installés sur votre système exécuter le code de la cellule suivante :"
   ]
  },
  {
   "cell_type": "code",
   "execution_count": 1,
   "metadata": {
    "slideshow": {
     "slide_type": "-"
    }
   },
   "outputs": [
    {
     "name": "stdout",
     "output_type": "stream",
     "text": [
      "Package                            Version  \r\n",
      "---------------------------------- ---------\r\n",
      "alabaster                          0.7.12   \r\n",
      "anaconda-client                    1.7.2    \r\n",
      "anaconda-navigator                 1.9.7    \r\n",
      "anaconda-project                   0.8.2    \r\n",
      "appnope                            0.1.0    \r\n",
      "appscript                          1.0.1    \r\n",
      "asn1crypto                         0.24.0   \r\n",
      "astroid                            2.2.5    \r\n",
      "astropy                            3.1.2    \r\n",
      "atomicwrites                       1.3.0    \r\n",
      "attrs                              19.1.0   \r\n",
      "Babel                              2.6.0    \r\n",
      "backcall                           0.1.0    \r\n",
      "backports.os                       0.1.1    \r\n",
      "backports.shutil-get-terminal-size 1.0.0    \r\n",
      "beautifulsoup4                     4.7.1    \r\n",
      "bitarray                           0.8.3    \r\n",
      "bkcharts                           0.2      \r\n",
      "bleach                             3.1.0    \r\n",
      "bokeh                              1.0.4    \r\n",
      "boto                               2.49.0   \r\n",
      "Bottleneck                         1.2.1    \r\n",
      "branca                             0.3.1    \r\n",
      "certifi                            2019.6.16\r\n",
      "cffi                               1.12.2   \r\n",
      "chardet                            3.0.4    \r\n",
      "Click                              7.0      \r\n",
      "cloudpickle                        0.8.0    \r\n",
      "clyent                             1.2.2    \r\n",
      "colorama                           0.4.1    \r\n",
      "conda                              4.7.11   \r\n",
      "conda-build                        3.17.8   \r\n",
      "conda-package-handling             1.3.11   \r\n",
      "conda-verify                       3.1.1    \r\n",
      "contextlib2                        0.5.5    \r\n",
      "cryptography                       2.6.1    \r\n",
      "cycler                             0.10.0   \r\n",
      "Cython                             0.29.6   \r\n",
      "cytoolz                            0.9.0.1  \r\n",
      "dask                               1.1.4    \r\n",
      "decorator                          4.4.0    \r\n",
      "defusedxml                         0.5.0    \r\n",
      "distributed                        1.26.0   \r\n",
      "docutils                           0.14     \r\n",
      "entrypoints                        0.3      \r\n",
      "et-xmlfile                         1.0.1    \r\n",
      "fastcache                          1.0.2    \r\n",
      "filelock                           3.0.10   \r\n",
      "Flask                              1.0.2    \r\n",
      "folium                             0.9.1    \r\n",
      "future                             0.17.1   \r\n",
      "gevent                             1.4.0    \r\n",
      "glob2                              0.6      \r\n",
      "gmpy2                              2.0.8    \r\n",
      "greenlet                           0.4.15   \r\n",
      "h5py                               2.9.0    \r\n",
      "heapdict                           1.0.0    \r\n",
      "html5lib                           1.0.1    \r\n",
      "idna                               2.8      \r\n",
      "imageio                            2.5.0    \r\n",
      "imagesize                          1.1.0    \r\n",
      "importlib-metadata                 0.0.0    \r\n",
      "ipykernel                          5.1.0    \r\n",
      "ipython                            7.4.0    \r\n",
      "ipython-genutils                   0.2.0    \r\n",
      "ipywidgets                         7.4.2    \r\n",
      "isort                              4.3.16   \r\n",
      "itsdangerous                       1.1.0    \r\n",
      "jdcal                              1.4      \r\n",
      "jedi                               0.13.3   \r\n",
      "Jinja2                             2.10     \r\n",
      "jsonschema                         3.0.1    \r\n",
      "jupyter                            1.0.0    \r\n",
      "jupyter-client                     5.2.4    \r\n",
      "jupyter-console                    6.0.0    \r\n",
      "jupyter-core                       4.4.0    \r\n",
      "jupyterlab                         0.35.4   \r\n",
      "jupyterlab-server                  0.2.0    \r\n",
      "keyring                            18.0.0   \r\n",
      "kiwisolver                         1.0.1    \r\n",
      "lazy-object-proxy                  1.3.1    \r\n",
      "libarchive-c                       2.8      \r\n",
      "lief                               0.9.0    \r\n",
      "llvmlite                           0.28.0   \r\n",
      "locket                             0.2.0    \r\n",
      "lxml                               4.3.2    \r\n",
      "MarkupSafe                         1.1.1    \r\n",
      "matplotlib                         3.0.3    \r\n",
      "mccabe                             0.6.1    \r\n",
      "mistune                            0.8.4    \r\n",
      "mkl-fft                            1.0.10   \r\n",
      "mkl-random                         1.0.2    \r\n",
      "more-itertools                     6.0.0    \r\n",
      "mpmath                             1.1.0    \r\n",
      "msgpack                            0.6.1    \r\n",
      "multipledispatch                   0.6.0    \r\n",
      "navigator-updater                  0.2.1    \r\n",
      "nbconvert                          5.4.1    \r\n",
      "nbformat                           4.4.0    \r\n",
      "networkx                           2.2      \r\n",
      "nltk                               3.4      \r\n",
      "nose                               1.3.7    \r\n",
      "notebook                           5.7.8    \r\n",
      "numba                              0.43.1   \r\n",
      "numexpr                            2.6.9    \r\n",
      "numpy                              1.16.2   \r\n",
      "numpydoc                           0.8.0    \r\n",
      "olefile                            0.46     \r\n",
      "openpyxl                           2.6.1    \r\n",
      "packaging                          19.0     \r\n",
      "pandas                             0.24.2   \r\n",
      "pandocfilters                      1.4.2    \r\n",
      "parso                              0.3.4    \r\n",
      "partd                              0.3.10   \r\n",
      "path.py                            11.5.0   \r\n",
      "pathlib2                           2.3.3    \r\n",
      "patsy                              0.5.1    \r\n",
      "pep8                               1.7.1    \r\n",
      "pexpect                            4.6.0    \r\n",
      "pickleshare                        0.7.5    \r\n",
      "Pillow                             5.4.1    \r\n",
      "pip                                19.0.3   \r\n",
      "pkginfo                            1.5.0.1  \r\n",
      "pluggy                             0.9.0    \r\n",
      "ply                                3.11     \r\n",
      "prometheus-client                  0.6.0    \r\n",
      "prompt-toolkit                     2.0.9    \r\n",
      "psutil                             5.6.1    \r\n",
      "ptyprocess                         0.6.0    \r\n",
      "py                                 1.8.0    \r\n",
      "pycodestyle                        2.5.0    \r\n",
      "pycosat                            0.6.3    \r\n",
      "pycparser                          2.19     \r\n",
      "pycrypto                           2.6.1    \r\n",
      "pycurl                             7.43.0.2 \r\n",
      "pyflakes                           2.1.1    \r\n",
      "Pygments                           2.3.1    \r\n",
      "pylint                             2.3.1    \r\n",
      "pyodbc                             4.0.26   \r\n",
      "pyOpenSSL                          19.0.0   \r\n",
      "pyparsing                          2.3.1    \r\n",
      "pyrsistent                         0.14.11  \r\n",
      "PySocks                            1.6.8    \r\n",
      "pytest                             4.3.1    \r\n",
      "pytest-arraydiff                   0.3      \r\n",
      "pytest-astropy                     0.5.0    \r\n",
      "pytest-doctestplus                 0.3.0    \r\n",
      "pytest-openfiles                   0.3.2    \r\n",
      "pytest-remotedata                  0.3.1    \r\n",
      "python-dateutil                    2.8.0    \r\n",
      "pytz                               2018.9   \r\n",
      "PyWavelets                         1.0.2    \r\n",
      "PyYAML                             5.1      \r\n",
      "pyzmq                              18.0.0   \r\n",
      "QtAwesome                          0.5.7    \r\n",
      "qtconsole                          4.4.3    \r\n",
      "QtPy                               1.7.0    \r\n",
      "requests                           2.21.0   \r\n",
      "rise                               5.6.0    \r\n",
      "rope                               0.12.0   \r\n",
      "ruamel-yaml                        0.15.46  \r\n",
      "scikit-image                       0.14.2   \r\n",
      "scikit-learn                       0.20.3   \r\n",
      "scipy                              1.2.1    \r\n",
      "seaborn                            0.9.0    \r\n",
      "Send2Trash                         1.5.0    \r\n",
      "setuptools                         40.8.0   \r\n",
      "simplegeneric                      0.8.1    \r\n",
      "singledispatch                     3.4.0.3  \r\n",
      "six                                1.12.0   \r\n",
      "snowballstemmer                    1.2.1    \r\n",
      "sortedcollections                  1.1.2    \r\n",
      "sortedcontainers                   2.1.0    \r\n",
      "soupsieve                          1.8      \r\n",
      "Sphinx                             1.8.5    \r\n",
      "sphinxcontrib-websupport           1.1.0    \r\n",
      "spyder                             3.3.6    \r\n",
      "spyder-kernels                     0.5.1    \r\n",
      "SQLAlchemy                         1.3.1    \r\n",
      "statsmodels                        0.9.0    \r\n",
      "sympy                              1.3      \r\n",
      "tables                             3.5.1    \r\n",
      "tblib                              1.3.2    \r\n",
      "terminado                          0.8.1    \r\n",
      "testpath                           0.4.2    \r\n",
      "toolz                              0.9.0    \r\n",
      "tornado                            6.0.2    \r\n",
      "tqdm                               4.31.1   \r\n",
      "traitlets                          4.3.2    \r\n",
      "unicodecsv                         0.14.1   \r\n",
      "urllib3                            1.24.1   \r\n",
      "wcwidth                            0.1.7    \r\n",
      "webencodings                       0.5.1    \r\n",
      "Werkzeug                           0.14.1   \r\n",
      "wheel                              0.33.1   \r\n",
      "widgetsnbextension                 3.4.2    \r\n",
      "wrapt                              1.11.1   \r\n",
      "wurlitzer                          1.0.2    \r\n",
      "xlrd                               1.2.0    \r\n",
      "XlsxWriter                         1.1.5    \r\n",
      "xlwings                            0.15.4   \r\n",
      "xlwt                               1.3.0    \r\n",
      "zict                               0.1.4    \r\n",
      "zipp                               0.3.3    \r\n"
     ]
    }
   ],
   "source": [
    "!pip list"
   ]
  },
  {
   "cell_type": "markdown",
   "metadata": {
    "slideshow": {
     "slide_type": "-"
    }
   },
   "source": [
    "Voici quelques exemple de notebook utilisant des modules assez intéressants :\n",
    "\n",
    "- [ipywidgets](ipywidgets_Le_BN_interactif.ipynb) - Un bloc-note pour ajouter de l'interraction avec des widgets.\n",
    "\n",
    "- [iPyturtle](iPyturtle-Un_BN_pour_la_Tortue.ipynb) - Un bloc-note pour dessiner avec Python3 et iPyturtle en ligne."
   ]
  },
  {
   "cell_type": "markdown",
   "metadata": {
    "slideshow": {
     "slide_type": "subslide"
    }
   },
   "source": [
    "## Publier un notebook jupyter à destination des élèves :\n",
    "\n",
    "1. Créer un dépot GitHub : réaliser le besoin n°1 de [Git](Git-Un_BN_pour_gerer_un_depot_GitHub.ipynb) - Un bloc-note pour gérer vos dépots GitHub...\n",
    "\n",
    "2. Déposer votre notebook dans votre dépot GitHub soit via l'interface graphique du navigateur soit en ligne de commande...\n",
    "\n",
    "> Pour la ligne de commande sour Windows il faudra peut-être installer [Git for Windows](https://gitforwindows.org/)\n",
    "\n",
    "3. Créer un lien [nbViewer](environnements_jupyter.ipynb#nbViewer) pour partager un affichage statique de votre notebook...\n",
    "\n",
    "\n",
    "4. Configurer un environnement [Binder](environnements_jupyter.ipynb#Binder) pour partager un affichage statique de votre notebook...\n",
    "\n"
   ]
  },
  {
   "cell_type": "markdown",
   "metadata": {
    "slideshow": {
     "slide_type": "slide"
    }
   },
   "source": [
    "\n",
    "# Ressources utiles :\n",
    "\n",
    "- La documentation : https://jupyter-notebook.readthedocs.io\n",
    "\n",
    "\n",
    "- Une liste assez exhaustive de solutions : [awesome-jupyter](https://awesomeopensource.com/project/markusschanta/awesome-jupyter)\n",
    "\n",
    "\n",
    "- [28 Conseils, astuces et raccourcis](https://www.dataquest.io/blog/jupyter-notebook-tips-tricks-shortcuts/)\n",
    "\n",
    "\n",
    "- Un tutoriel pour débuter : https://realpython.com/jupyter-notebook-introduction/\n",
    "\n",
    "\n",
    "- https://www.ionos.fr/digitalguide/sites-internet/developpement-web/jupyter-notebook/\n",
    "\n",
    "\n",
    "- https://www.lemondeinformatique.fr/actualites/lire-jupyter-notebook-apporte-une-vue-360-des-donnees-aux-developpeurs-75077.html\n",
    "\n",
    "\n",
    "- https://connect.ed-diamond.com/Linux-Pratique/LP-092/Jupyter-le-couteau-suisse-des-interpretateurs-interactifs\n",
    "\n",
    "\n",
    "- https://github.com/jupyter/jupyter/wiki/A-gallery-of-interesting-Jupyter-Notebooks\n",
    "\n",
    "\n",
    "- https://nbviewer.jupyter.org/github/ipython/ipython/tree/2.x/examples/\n",
    "\n",
    "\n",
    "- Jake Vanderplas : https://github.com/jakevdp\n",
    "\n",
    "\n",
    "- Une référence pédagogique gratuite en ligne : [Teaching and Learning with Jupyter](https://jupyter4edu.github.io/jupyter-edu-book/index.html), et son dépot [GitHub](https://github.com/jupyter4edu/jupyter-edu-book)\n",
    "\n",
    "\n",
    "    "
   ]
  },
  {
   "cell_type": "code",
   "execution_count": null,
   "metadata": {},
   "outputs": [],
   "source": []
  }
 ],
 "metadata": {
  "celltoolbar": "Diaporama",
  "hide_input": false,
  "kernelspec": {
   "display_name": "Python 3",
   "language": "python",
   "name": "python3"
  },
  "language_info": {
   "codemirror_mode": {
    "name": "ipython",
    "version": 3
   },
   "file_extension": ".py",
   "mimetype": "text/x-python",
   "name": "python",
   "nbconvert_exporter": "python",
   "pygments_lexer": "ipython3",
   "version": "3.7.3"
  },
  "toc": {
   "base_numbering": 1,
   "nav_menu": {
    "height": "108px",
    "width": "404px"
   },
   "number_sections": true,
   "sideBar": true,
   "skip_h1_title": false,
   "title_cell": "Table of Contents",
   "title_sidebar": "Contents",
   "toc_cell": false,
   "toc_position": {
    "height": "calc(100% - 180px)",
    "left": "10px",
    "top": "150px",
    "width": "304.475px"
   },
   "toc_section_display": true,
   "toc_window_display": false
  },
  "varInspector": {
   "cols": {
    "lenName": 16,
    "lenType": 16,
    "lenVar": 40
   },
   "kernels_config": {
    "python": {
     "delete_cmd_postfix": "",
     "delete_cmd_prefix": "del ",
     "library": "var_list.py",
     "varRefreshCmd": "print(var_dic_list())"
    },
    "r": {
     "delete_cmd_postfix": ") ",
     "delete_cmd_prefix": "rm(",
     "library": "var_list.r",
     "varRefreshCmd": "cat(var_dic_list()) "
    }
   },
   "types_to_exclude": [
    "module",
    "function",
    "builtin_function_or_method",
    "instance",
    "_Feature"
   ],
   "window_display": false
  }
 },
 "nbformat": 4,
 "nbformat_minor": 2
}
